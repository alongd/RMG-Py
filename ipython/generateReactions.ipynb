{
 "cells": [
  {
   "cell_type": "markdown",
   "metadata": {},
   "source": [
    "# Generate Reactions\n",
    "\n",
    "This script performs the same task as the script in `scripts/generateReactions.py` but in visual ipynb format.\n",
    "It can also evaluate the reaction forward and reverse rates at a user selected temperature."
   ]
  },
  {
   "cell_type": "code",
   "execution_count": null,
   "metadata": {
    "collapsed": false
   },
   "outputs": [],
   "source": [
    "from rmgpy.rmg.main import RMG\n",
    "from rmgpy.rmg.model import CoreEdgeReactionModel\n",
    "from rmgpy import settings\n",
    "from IPython.display import display\n",
    "from rmgpy.cantherm.output import prettify"
   ]
  },
  {
   "cell_type": "markdown",
   "metadata": {},
   "source": [
    "Declare database variables here by changing the thermo and reaction libraries, or restrict to certain reaction families.  "
   ]
  },
  {
   "cell_type": "code",
   "execution_count": null,
   "metadata": {
    "collapsed": true
   },
   "outputs": [],
   "source": [
    "database = \"\"\"\n",
    "database(\n",
    "    thermoLibraries = ['KlippensteinH2O2','SulfurLibrary', 'primaryThermoLibrary','DFT_QCI_thermo','CBS_QB3_1dHR'],\n",
    "    reactionLibraries = [],  \n",
    "    seedMechanisms = [],\n",
    "    kineticsDepositories = 'default', \n",
    "    kineticsFamilies = ['Intra_R_Add_Exocyclic'],  # Select a few families\n",
    "#   kineticsFamilies = 'all',   # Or select 'all' or 'default' for the families\n",
    "    kineticsEstimator = 'rate rules',\n",
    ")\n",
    "\n",
    "options(\n",
    "    verboseComments=True,  # Set to True for detailed kinetics comments\n",
    ")\n",
    "\"\"\""
   ]
  },
  {
   "cell_type": "markdown",
   "metadata": {},
   "source": [
    "List all species you want reactions between"
   ]
  },
  {
   "cell_type": "code",
   "execution_count": null,
   "metadata": {
    "collapsed": false
   },
   "outputs": [],
   "source": [
    "speciesList = \"\"\"\n",
    "species(\n",
    "    label = \"RAD1\",\n",
    "    structure = SMILES(\"CCCCCCCCCCCCc1[c]cccc1\"))\n",
    "    \n",
    "species(\n",
    "    label = \"RAD1\",\n",
    "    structure = SMILES(\"CCCCCCCCCCC[CH]c1ccccc1\"))\n",
    "\n",
    "species(\n",
    "    label = \"RAD2\",\n",
    "    structure = SMILES(\"CCCCCCCCCC[CH]Cc1ccccc1\"))\n",
    "\n",
    "species(\n",
    "    label = \"RAD3\",\n",
    "    structure = SMILES(\"CCCCCCCCC[CH]CCc1ccccc1\"))\n",
    "\n",
    "species(\n",
    "    label = \"RAD4\",\n",
    "    structure = SMILES(\"CCCCCCCC[CH]CCCc1ccccc1\"))\n",
    "\n",
    "species(\n",
    "    label = \"RAD5\",\n",
    "    structure = SMILES(\"CCCCCCC[CH]CCCCc1ccccc1\"))\n",
    "\n",
    "species(\n",
    "    label = \"RAD6\",\n",
    "    structure = SMILES(\"CCCCCC[CH]CCCCCc1ccccc1\"))\n",
    "\n",
    "species(\n",
    "    label = \"RAD7\",\n",
    "    structure = SMILES(\"CCCCC[CH]CCCCCCc1ccccc1\"))\n",
    "\n",
    "species(\n",
    "    label = \"RAD8\",\n",
    "    structure = SMILES(\"CCCC[CH]CCCCCCCc1ccccc1\"))\n",
    "\n",
    "species(\n",
    "    label = \"RAD9\",\n",
    "    structure = SMILES(\"CCC[CH]CCCCCCCCc1ccccc1\"))\n",
    "\n",
    "species(\n",
    "    label = \"RAD10\",\n",
    "    structure = SMILES(\"CC[CH]CCCCCCCCCc1ccccc1\"))\n",
    "\n",
    "species(\n",
    "    label = \"RAD11\",\n",
    "    structure = SMILES(\"C[CH]CCCCCCCCCCc1ccccc1\"))\n",
    "\n",
    "species(\n",
    "    label = \"RAD12\",\n",
    "    structure = SMILES(\"[CH2]CCCCCCCCCCCc1ccccc1\"))\n",
    "\"\"\""
   ]
  },
  {
   "cell_type": "code",
   "execution_count": null,
   "metadata": {
    "collapsed": false
   },
   "outputs": [],
   "source": [
    "# Write input file to disk\n",
    "inputFile = open('temp/input.py','w')\n",
    "inputFile.write(database)\n",
    "inputFile.write(speciesList)\n",
    "inputFile.close()"
   ]
  },
  {
   "cell_type": "code",
   "execution_count": null,
   "metadata": {
    "collapsed": false,
    "scrolled": true
   },
   "outputs": [],
   "source": [
    "# Execute generate reactions\n",
    "from rmgpy.tools.generate_reactions import *\n",
    "rmg = RMG(inputFile='temp/input.py', outputDirectory='temp')\n",
    "rmg = execute(rmg)"
   ]
  },
  {
   "cell_type": "code",
   "execution_count": null,
   "metadata": {
    "collapsed": true
   },
   "outputs": [],
   "source": [
    "# Pick some temperature to evaluate the forward and reverse kinetics\n",
    "T = 623.0 # K"
   ]
  },
  {
   "cell_type": "code",
   "execution_count": null,
   "metadata": {
    "collapsed": false
   },
   "outputs": [],
   "source": [
    "for rxn in rmg.reactionModel.outputReactionList:\n",
    "    print '========================='\n",
    "    display(rxn)\n",
    "    print 'Reaction Family = {0}'.format(rxn.family)\n",
    "    print ''\n",
    "    print 'Reactants'\n",
    "    for reactant in rxn.reactants:\n",
    "        print 'Label: {0}'.format(reactant.label)\n",
    "        print 'SMILES: {0}'.format(reactant.molecule[0].toSMILES())\n",
    "        print ''\n",
    "    print 'Products'\n",
    "    for product in rxn.products:\n",
    "        print 'Label: {0}'.format(product.label)\n",
    "        print 'SMILES: {0}'.format(product.molecule[0].toSMILES())\n",
    "    print ''\n",
    "    print rxn.toChemkin()\n",
    "    print ''\n",
    "    print 'Heat of Reaction = {0:.2F} kcal/mol'.format(rxn.getEnthalpyOfReaction(623.0)/4184)\n",
    "    print 'Forward kinetics at {0} K: {1:.2E}'.format(T, rxn.getRateCoefficient(T))\n",
    "\n",
    "    reverseRate = rxn.generateReverseRateCoefficient()\n",
    "    print 'Reverse kinetics at {0} K: {1:.2E}'.format(T, reverseRate.getRateCoefficient(T))"
   ]
  }
 ],
 "metadata": {
  "kernelspec": {
   "display_name": "Python 2",
   "language": "python",
   "name": "python2"
  },
  "language_info": {
   "codemirror_mode": {
    "name": "ipython",
    "version": 2
   },
   "file_extension": ".py",
   "mimetype": "text/x-python",
   "name": "python",
   "nbconvert_exporter": "python",
   "pygments_lexer": "ipython2",
   "version": "2.7.11"
  }
 },
 "nbformat": 4,
 "nbformat_minor": 0
}
